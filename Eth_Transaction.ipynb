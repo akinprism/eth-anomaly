{
  "nbformat": 4,
  "nbformat_minor": 0,
  "metadata": {
    "colab": {
      "provenance": [],
      "mount_file_id": "19NxGVffH3g7iBC-EVipk3IBemLFAPide",
      "authorship_tag": "ABX9TyMut6Q/V6ftGYm4dcMp7m6Y",
      "include_colab_link": true
    },
    "kernelspec": {
      "name": "python3",
      "display_name": "Python 3"
    },
    "language_info": {
      "name": "python"
    }
  },
  "cells": [
    {
      "cell_type": "markdown",
      "metadata": {
        "id": "view-in-github",
        "colab_type": "text"
      },
      "source": [
        "<a href=\"https://colab.research.google.com/github/akinprism/eth-anomaly/blob/main/Eth_Transaction.ipynb\" target=\"_parent\"><img src=\"https://colab.research.google.com/assets/colab-badge.svg\" alt=\"Open In Colab\"/></a>"
      ]
    },
    {
      "cell_type": "markdown",
      "source": [
        " **Library Installation**"
      ],
      "metadata": {
        "id": "EXVjBad11QRq"
      }
    },
    {
      "cell_type": "code",
      "source": [
        "!pip install --upgrade google-cloud-bigquery"
      ],
      "metadata": {
        "colab": {
          "base_uri": "https://localhost:8080/"
        },
        "id": "dmhbPdb_1PLh",
        "outputId": "19b5b170-7c04-479b-9c47-5532263cf7a9"
      },
      "execution_count": 3,
      "outputs": [
        {
          "output_type": "stream",
          "name": "stdout",
          "text": [
            "Requirement already satisfied: google-cloud-bigquery in /usr/local/lib/python3.10/dist-packages (3.12.0)\n",
            "Requirement already satisfied: grpcio<2.0dev,>=1.47.0 in /usr/local/lib/python3.10/dist-packages (from google-cloud-bigquery) (1.59.0)\n",
            "Requirement already satisfied: google-api-core[grpc]!=2.0.*,!=2.1.*,!=2.2.*,!=2.3.0,<3.0.0dev,>=1.31.5 in /usr/local/lib/python3.10/dist-packages (from google-cloud-bigquery) (2.11.1)\n",
            "Requirement already satisfied: proto-plus<2.0.0dev,>=1.15.0 in /usr/local/lib/python3.10/dist-packages (from google-cloud-bigquery) (1.22.3)\n",
            "Requirement already satisfied: google-cloud-core<3.0.0dev,>=1.6.0 in /usr/local/lib/python3.10/dist-packages (from google-cloud-bigquery) (2.3.3)\n",
            "Requirement already satisfied: google-resumable-media<3.0dev,>=0.6.0 in /usr/local/lib/python3.10/dist-packages (from google-cloud-bigquery) (2.6.0)\n",
            "Requirement already satisfied: packaging>=20.0.0 in /usr/local/lib/python3.10/dist-packages (from google-cloud-bigquery) (23.2)\n",
            "Requirement already satisfied: protobuf!=3.20.0,!=3.20.1,!=4.21.0,!=4.21.1,!=4.21.2,!=4.21.3,!=4.21.4,!=4.21.5,<5.0.0dev,>=3.19.5 in /usr/local/lib/python3.10/dist-packages (from google-cloud-bigquery) (3.20.3)\n",
            "Requirement already satisfied: python-dateutil<3.0dev,>=2.7.2 in /usr/local/lib/python3.10/dist-packages (from google-cloud-bigquery) (2.8.2)\n",
            "Requirement already satisfied: requests<3.0.0dev,>=2.21.0 in /usr/local/lib/python3.10/dist-packages (from google-cloud-bigquery) (2.31.0)\n",
            "Requirement already satisfied: googleapis-common-protos<2.0.dev0,>=1.56.2 in /usr/local/lib/python3.10/dist-packages (from google-api-core[grpc]!=2.0.*,!=2.1.*,!=2.2.*,!=2.3.0,<3.0.0dev,>=1.31.5->google-cloud-bigquery) (1.60.0)\n",
            "Requirement already satisfied: google-auth<3.0.dev0,>=2.14.1 in /usr/local/lib/python3.10/dist-packages (from google-api-core[grpc]!=2.0.*,!=2.1.*,!=2.2.*,!=2.3.0,<3.0.0dev,>=1.31.5->google-cloud-bigquery) (2.17.3)\n",
            "Requirement already satisfied: grpcio-status<2.0.dev0,>=1.33.2 in /usr/local/lib/python3.10/dist-packages (from google-api-core[grpc]!=2.0.*,!=2.1.*,!=2.2.*,!=2.3.0,<3.0.0dev,>=1.31.5->google-cloud-bigquery) (1.48.2)\n",
            "Requirement already satisfied: google-crc32c<2.0dev,>=1.0 in /usr/local/lib/python3.10/dist-packages (from google-resumable-media<3.0dev,>=0.6.0->google-cloud-bigquery) (1.5.0)\n",
            "Requirement already satisfied: six>=1.5 in /usr/local/lib/python3.10/dist-packages (from python-dateutil<3.0dev,>=2.7.2->google-cloud-bigquery) (1.16.0)\n",
            "Requirement already satisfied: charset-normalizer<4,>=2 in /usr/local/lib/python3.10/dist-packages (from requests<3.0.0dev,>=2.21.0->google-cloud-bigquery) (3.3.0)\n",
            "Requirement already satisfied: idna<4,>=2.5 in /usr/local/lib/python3.10/dist-packages (from requests<3.0.0dev,>=2.21.0->google-cloud-bigquery) (3.4)\n",
            "Requirement already satisfied: urllib3<3,>=1.21.1 in /usr/local/lib/python3.10/dist-packages (from requests<3.0.0dev,>=2.21.0->google-cloud-bigquery) (2.0.6)\n",
            "Requirement already satisfied: certifi>=2017.4.17 in /usr/local/lib/python3.10/dist-packages (from requests<3.0.0dev,>=2.21.0->google-cloud-bigquery) (2023.7.22)\n",
            "Requirement already satisfied: cachetools<6.0,>=2.0.0 in /usr/local/lib/python3.10/dist-packages (from google-auth<3.0.dev0,>=2.14.1->google-api-core[grpc]!=2.0.*,!=2.1.*,!=2.2.*,!=2.3.0,<3.0.0dev,>=1.31.5->google-cloud-bigquery) (5.3.1)\n",
            "Requirement already satisfied: pyasn1-modules>=0.2.1 in /usr/local/lib/python3.10/dist-packages (from google-auth<3.0.dev0,>=2.14.1->google-api-core[grpc]!=2.0.*,!=2.1.*,!=2.2.*,!=2.3.0,<3.0.0dev,>=1.31.5->google-cloud-bigquery) (0.3.0)\n",
            "Requirement already satisfied: rsa<5,>=3.1.4 in /usr/local/lib/python3.10/dist-packages (from google-auth<3.0.dev0,>=2.14.1->google-api-core[grpc]!=2.0.*,!=2.1.*,!=2.2.*,!=2.3.0,<3.0.0dev,>=1.31.5->google-cloud-bigquery) (4.9)\n",
            "Requirement already satisfied: pyasn1<0.6.0,>=0.4.6 in /usr/local/lib/python3.10/dist-packages (from pyasn1-modules>=0.2.1->google-auth<3.0.dev0,>=2.14.1->google-api-core[grpc]!=2.0.*,!=2.1.*,!=2.2.*,!=2.3.0,<3.0.0dev,>=1.31.5->google-cloud-bigquery) (0.5.0)\n"
          ]
        }
      ]
    },
    {
      "cell_type": "markdown",
      "source": [
        "**ETH Transactions Datasets**\n",
        "\n",
        "Eth Fraud Detection Dataset\n",
        "1. https://www.kaggle.com/datasets/vagifa/ethereum-frauddetection-dataset\n",
        "\n",
        "- ./MyDriver/Colab Notebooks/ethDatasets/transaction_dataset.csv\n",
        "\n",
        "Eth Ilicit Features\n",
        "2. https://www.kaggle.com/datasets/gescobero/ethereum-fraud-dataset\n",
        "\n",
        "- ./MyDriver/Colab Notebooks/ethDatasets/eth_ilicit_features.csv\n",
        "\n",
        "Eth BigQuery Dataset\n",
        "[About Dataset](https://medium.com/google-cloud/full-relational-diagram-for-ethereum-public-data-on-google-bigquery-2825fdf0fb0b)\n",
        "\n",
        "3."
      ],
      "metadata": {
        "id": "UzMO3GdKmbYJ"
      }
    },
    {
      "cell_type": "code",
      "source": [
        "from google.colab import drive\n",
        "\n",
        "drive.mount('/content/drive')"
      ],
      "metadata": {
        "id": "Uq6C1ppTvufF",
        "colab": {
          "base_uri": "https://localhost:8080/"
        },
        "outputId": "54d5d2a1-a884-47d1-f1e1-03e9a798a904"
      },
      "execution_count": 5,
      "outputs": [
        {
          "output_type": "stream",
          "name": "stdout",
          "text": [
            "Drive already mounted at /content/drive; to attempt to forcibly remount, call drive.mount(\"/content/drive\", force_remount=True).\n"
          ]
        }
      ]
    },
    {
      "cell_type": "markdown",
      "source": [
        "4. reading the data with pandas:"
      ],
      "metadata": {
        "id": "ago32QL2KQZI"
      }
    },
    {
      "cell_type": "code",
      "source": [
        "import os\n",
        "import pandas as pd\n",
        "from google.cloud import bigquery\n",
        "from google.cloud.bigquery import Client\n",
        "from dataclasses import dataclass"
      ],
      "metadata": {
        "id": "sGdDaH4h2I_6"
      },
      "execution_count": 13,
      "outputs": []
    },
    {
      "cell_type": "markdown",
      "source": [
        "**Helper Functions**"
      ],
      "metadata": {
        "id": "ZVrFeHJM2LSW"
      }
    },
    {
      "cell_type": "code",
      "source": [
        "def read_csv_from_drive(file_path):\n",
        "    \"\"\"\n",
        "    Reads a CSV file from Google Drive and returns it as a pandas DataFrame.\n",
        "\n",
        "    Args:\n",
        "        file_path (str): The file path within Google Drive.\n",
        "\n",
        "    Returns:\n",
        "        pd.DataFrame: The DataFrame containing the CSV data.\n",
        "    \"\"\"\n",
        "    # Mount Google Drive\n",
        "    drive.mount('/content/drive')\n",
        "\n",
        "    # Read the CSV file into a DataFrame\n",
        "    df = pd.read_csv(file_path)\n",
        "\n",
        "    return df\n",
        "\n",
        "\n",
        "@dataclass\n",
        "class BigQuerySql:\n",
        "  \"\"\"SQL statements data class\"\"\"\n",
        "  eth_transactions = \"\"\"SELECT * FROM `your-project-id.your-dataset.your-table` LIMIT 10\"\"\"\n",
        "\n",
        "  def query_sql(self, sql_query_type, big_query_client: Client):\n",
        "    \"\"\"Query function for big queries\"\"\"\n",
        "    return client.query(getattr(sql_query_type))\n",
        ""
      ],
      "metadata": {
        "id": "mUN3mDeqmayz"
      },
      "execution_count": 10,
      "outputs": []
    },
    {
      "cell_type": "code",
      "source": [
        "client = bigquery.Client()\n",
        "big_query_sql = BigQuerySql()\n",
        "\n",
        "big_query_sql.query_sql(\n",
        "    sql_query_type=\"eth_transactions\",\n",
        "    big_query_client=client,\n",
        ")\n",
        "\n",
        "# Usage example:\n",
        "file_path = '/content/drive/MyDrive/Colab Notebooks/ethDatasets/transaction_dataset.csv'\n",
        "df = read_csv_from_drive(file_path)\n",
        "\n",
        "# Now you can work with 'df' as needed\n",
        "print(df.head())  # Display the first few rows of the DataFrame"
      ],
      "metadata": {
        "id": "EPIQHH_KlEeF",
        "colab": {
          "base_uri": "https://localhost:8080/"
        },
        "outputId": "827a2114-5b1e-479e-e677-c9f8b52ba0d2"
      },
      "execution_count": 11,
      "outputs": [
        {
          "output_type": "stream",
          "name": "stdout",
          "text": [
            "Drive already mounted at /content/drive; to attempt to forcibly remount, call drive.mount(\"/content/drive\", force_remount=True).\n",
            "   Unnamed: 0  Index                                     Address  FLAG  \\\n",
            "0           0      1  0x00009277775ac7d0d59eaad8fee3d10ac6c805e8     0   \n",
            "1           1      2  0x0002b44ddb1476db43c868bd494422ee4c136fed     0   \n",
            "2           2      3  0x0002bda54cb772d040f779e88eb453cac0daa244     0   \n",
            "3           3      4  0x00038e6ba2fd5c09aedb96697c8d7b8fa6632e5e     0   \n",
            "4           4      5  0x00062d1dd1afb6fb02540ddad9cdebfe568e0d89     0   \n",
            "\n",
            "   Avg min between sent tnx  Avg min between received tnx  \\\n",
            "0                    844.26                       1093.71   \n",
            "1                  12709.07                       2958.44   \n",
            "2                 246194.54                       2434.02   \n",
            "3                  10219.60                      15785.09   \n",
            "4                     36.61                      10707.77   \n",
            "\n",
            "   Time Diff between first and last (Mins)  Sent tnx  Received Tnx  \\\n",
            "0                                704785.63       721            89   \n",
            "1                               1218216.73        94             8   \n",
            "2                                516729.30         2            10   \n",
            "3                                397555.90        25             9   \n",
            "4                                382472.42      4598            20   \n",
            "\n",
            "   Number of Created Contracts  ...   ERC20 min val sent   ERC20 max val sent  \\\n",
            "0                            0  ...             0.000000         1.683100e+07   \n",
            "1                            0  ...             2.260809         2.260809e+00   \n",
            "2                            0  ...             0.000000         0.000000e+00   \n",
            "3                            0  ...           100.000000         9.029231e+03   \n",
            "4                            1  ...             0.000000         4.500000e+04   \n",
            "\n",
            "    ERC20 avg val sent   ERC20 min val sent contract  \\\n",
            "0        271779.920000                           0.0   \n",
            "1             2.260809                           0.0   \n",
            "2             0.000000                           0.0   \n",
            "3          3804.076893                           0.0   \n",
            "4         13726.659220                           0.0   \n",
            "\n",
            "    ERC20 max val sent contract   ERC20 avg val sent contract  \\\n",
            "0                           0.0                           0.0   \n",
            "1                           0.0                           0.0   \n",
            "2                           0.0                           0.0   \n",
            "3                           0.0                           0.0   \n",
            "4                           0.0                           0.0   \n",
            "\n",
            "    ERC20 uniq sent token name   ERC20 uniq rec token name  \\\n",
            "0                         39.0                        57.0   \n",
            "1                          1.0                         7.0   \n",
            "2                          0.0                         8.0   \n",
            "3                          1.0                        11.0   \n",
            "4                          6.0                        27.0   \n",
            "\n",
            "    ERC20 most sent token type   ERC20_most_rec_token_type  \n",
            "0                    Cofoundit                   Numeraire  \n",
            "1               Livepeer Token              Livepeer Token  \n",
            "2                         None                       XENON  \n",
            "3                       Raiden                       XENON  \n",
            "4                StatusNetwork                         EOS  \n",
            "\n",
            "[5 rows x 51 columns]\n"
          ]
        }
      ]
    },
    {
      "cell_type": "code",
      "source": [],
      "metadata": {
        "id": "mzzLwiWD1_mM"
      },
      "execution_count": null,
      "outputs": []
    }
  ]
}