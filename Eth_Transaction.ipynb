{
  "nbformat": 4,
  "nbformat_minor": 0,
  "metadata": {
    "colab": {
      "provenance": [],
      "mount_file_id": "19NxGVffH3g7iBC-EVipk3IBemLFAPide",
      "authorship_tag": "ABX9TyMpLnS9ZmlQDpCEchbuK4w5",
      "include_colab_link": true
    },
    "kernelspec": {
      "name": "python3",
      "display_name": "Python 3"
    },
    "language_info": {
      "name": "python"
    }
  },
  "cells": [
    {
      "cell_type": "markdown",
      "metadata": {
        "id": "view-in-github",
        "colab_type": "text"
      },
      "source": [
        "<a href=\"https://colab.research.google.com/github/akinprism/eth-anomaly/blob/main/Eth_Transaction.ipynb\" target=\"_parent\"><img src=\"https://colab.research.google.com/assets/colab-badge.svg\" alt=\"Open In Colab\"/></a>"
      ]
    },
    {
      "cell_type": "markdown",
      "source": [
        "**ETH Transactions Datasets**\n",
        "\n",
        "Eth Fraud Detection Dataset\n",
        "1. https://www.kaggle.com/datasets/vagifa/ethereum-frauddetection-dataset\n",
        "\n",
        "- ./MyDriver/Colab Notebooks/ethDatasets/transaction_dataset.csv\n",
        "\n",
        "Eth Ilicit Features\n",
        "2. https://www.kaggle.com/datasets/gescobero/ethereum-fraud-dataset\n",
        "\n",
        "- ./MyDriver/Colab Notebooks/ethDatasets/eth_ilicit_features.csv\n",
        "\n",
        "Eth BigQuery Dataset\n",
        "[About Dataset](https://medium.com/google-cloud/full-relational-diagram-for-ethereum-public-data-on-google-bigquery-2825fdf0fb0b)\n",
        "\n",
        "3."
      ],
      "metadata": {
        "id": "UzMO3GdKmbYJ"
      }
    },
    {
      "cell_type": "code",
      "source": [
        "from google.colab import drive\n",
        "\n",
        "drive.mount('/content/drive')"
      ],
      "metadata": {
        "id": "Uq6C1ppTvufF",
        "colab": {
          "base_uri": "https://localhost:8080/"
        },
        "outputId": "aedfd612-9371-4847-eda9-199e3a374a87"
      },
      "execution_count": null,
      "outputs": [
        {
          "output_type": "stream",
          "name": "stdout",
          "text": [
            "Drive already mounted at /content/drive; to attempt to forcibly remount, call drive.mount(\"/content/drive\", force_remount=True).\n"
          ]
        }
      ]
    },
    {
      "cell_type": "markdown",
      "source": [
        "4. reading the data with pandas:"
      ],
      "metadata": {
        "id": "ago32QL2KQZI"
      }
    },
    {
      "cell_type": "code",
      "source": [
        "from google.colab import drive\n",
        "import pandas as pd\n",
        "\n",
        "def read_csv_from_drive(file_path):\n",
        "    \"\"\"\n",
        "    Reads a CSV file from Google Drive and returns it as a pandas DataFrame.\n",
        "\n",
        "    Args:\n",
        "        file_path (str): The file path within Google Drive.\n",
        "\n",
        "    Returns:\n",
        "        pd.DataFrame: The DataFrame containing the CSV data.\n",
        "    \"\"\"\n",
        "    # Mount Google Drive\n",
        "    drive.mount('/content/drive')\n",
        "\n",
        "    # Read the CSV file into a DataFrame\n",
        "    df = pd.read_csv(file_path)\n",
        "\n",
        "    return df\n",
        "\n",
        "# Usage example:\n",
        "file_path = '/content/drive/MyDrive/Colab Notebooks/ethDatasets/transaction_dataset.csv'\n",
        "df = read_csv_from_drive(file_path)\n",
        "\n",
        "# Now you can work with 'df' as needed\n",
        "print(df.head())  # Display the first few rows of the DataFrame\n"
      ],
      "metadata": {
        "id": "mUN3mDeqmayz",
        "colab": {
          "base_uri": "https://localhost:8080/"
        },
        "outputId": "657b2adc-869c-4e84-8dbf-514a74b97f78"
      },
      "execution_count": null,
      "outputs": [
        {
          "output_type": "stream",
          "name": "stdout",
          "text": [
            "Drive already mounted at /content/drive; to attempt to forcibly remount, call drive.mount(\"/content/drive\", force_remount=True).\n",
            "   Unnamed: 0  Index                                     Address  FLAG  \\\n",
            "0           0      1  0x00009277775ac7d0d59eaad8fee3d10ac6c805e8     0   \n",
            "1           1      2  0x0002b44ddb1476db43c868bd494422ee4c136fed     0   \n",
            "2           2      3  0x0002bda54cb772d040f779e88eb453cac0daa244     0   \n",
            "3           3      4  0x00038e6ba2fd5c09aedb96697c8d7b8fa6632e5e     0   \n",
            "4           4      5  0x00062d1dd1afb6fb02540ddad9cdebfe568e0d89     0   \n",
            "\n",
            "   Avg min between sent tnx  Avg min between received tnx  \\\n",
            "0                    844.26                       1093.71   \n",
            "1                  12709.07                       2958.44   \n",
            "2                 246194.54                       2434.02   \n",
            "3                  10219.60                      15785.09   \n",
            "4                     36.61                      10707.77   \n",
            "\n",
            "   Time Diff between first and last (Mins)  Sent tnx  Received Tnx  \\\n",
            "0                                704785.63       721            89   \n",
            "1                               1218216.73        94             8   \n",
            "2                                516729.30         2            10   \n",
            "3                                397555.90        25             9   \n",
            "4                                382472.42      4598            20   \n",
            "\n",
            "   Number of Created Contracts  ...   ERC20 min val sent   ERC20 max val sent  \\\n",
            "0                            0  ...             0.000000         1.683100e+07   \n",
            "1                            0  ...             2.260809         2.260809e+00   \n",
            "2                            0  ...             0.000000         0.000000e+00   \n",
            "3                            0  ...           100.000000         9.029231e+03   \n",
            "4                            1  ...             0.000000         4.500000e+04   \n",
            "\n",
            "    ERC20 avg val sent   ERC20 min val sent contract  \\\n",
            "0        271779.920000                           0.0   \n",
            "1             2.260809                           0.0   \n",
            "2             0.000000                           0.0   \n",
            "3          3804.076893                           0.0   \n",
            "4         13726.659220                           0.0   \n",
            "\n",
            "    ERC20 max val sent contract   ERC20 avg val sent contract  \\\n",
            "0                           0.0                           0.0   \n",
            "1                           0.0                           0.0   \n",
            "2                           0.0                           0.0   \n",
            "3                           0.0                           0.0   \n",
            "4                           0.0                           0.0   \n",
            "\n",
            "    ERC20 uniq sent token name   ERC20 uniq rec token name  \\\n",
            "0                         39.0                        57.0   \n",
            "1                          1.0                         7.0   \n",
            "2                          0.0                         8.0   \n",
            "3                          1.0                        11.0   \n",
            "4                          6.0                        27.0   \n",
            "\n",
            "    ERC20 most sent token type   ERC20_most_rec_token_type  \n",
            "0                    Cofoundit                   Numeraire  \n",
            "1               Livepeer Token              Livepeer Token  \n",
            "2                         None                       XENON  \n",
            "3                       Raiden                       XENON  \n",
            "4                StatusNetwork                         EOS  \n",
            "\n",
            "[5 rows x 51 columns]\n"
          ]
        }
      ]
    }
  ]
}